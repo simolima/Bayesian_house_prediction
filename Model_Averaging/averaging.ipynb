{
 "cells": [
  {
   "cell_type": "code",
   "execution_count": 2,
   "metadata": {},
   "outputs": [],
   "source": [
    "import pandas as pd\n",
    "import numpy as np\n",
    "import matplotlib.pyplot as plt"
   ]
  },
  {
   "cell_type": "code",
   "execution_count": 20,
   "metadata": {},
   "outputs": [
    {
     "name": "stdout",
     "output_type": "stream",
     "text": [
      "1.0 0.0 3.348705675813844e-42\n"
     ]
    }
   ],
   "source": [
    "WAIC_LMM = -3929\n",
    "WAIC_INLA = -5526\n",
    "WAIC_CAR = -5717\n",
    "\n",
    "dWAIC_LMM = WAIC_LMM - WAIC_CAR\n",
    "dWAIC_INLA = WAIC_INLA - WAIC_CAR\n",
    "dWAIC_CAR = 0\n",
    "\n",
    "w_CAR = np.exp(-0.5 * dWAIC_CAR)\n",
    "w_LMM = np.exp(-0.5 * dWAIC_LMM)\n",
    "w_INLA = np.exp(-0.5 * dWAIC_INLA)\n",
    "total = w_CAR + w_LMM + w_INLA\n",
    "\n",
    "w_CAR = w_CAR / total\n",
    "w_LMM = w_LMM / total\n",
    "w_INLA = w_INLA / total\n",
    "\n",
    "print(w_CAR, w_LMM, w_INLA)"
   ]
  },
  {
   "cell_type": "code",
   "execution_count": null,
   "metadata": {},
   "outputs": [],
   "source": [
    "correct = np.power(10, pd.read_csv(\"../Dataset/testtransfcoor.csv\", sep=\";\")[\"price\"].to_numpy())\n",
    "predictionsINLA = np.power(10, pd.read_csv(\"../Spatial Model - INLA/TestPred.csv\")[\"predicted\"].to_numpy())\n",
    "predictionsLMM = np.power(10, pd.read_csv(\"../Linear Mixed Model/TestPred.csv\")[\"predicted\"].to_numpy())\n",
    "\n",
    "MSE_INLA = np.mean((correct - predictionsINLA)**2)\n",
    "MSE_LMM = np.mean((correct - predictionsLMM) ** 2)\n",
    "\n",
    "print(np.sqrt(MSE_INLA), np.sqrt(MSE_LMM))"
   ]
  },
  {
   "cell_type": "code",
   "execution_count": 3,
   "metadata": {},
   "outputs": [
    {
     "name": "stdout",
     "output_type": "stream",
     "text": [
      "0.004040931835967855\n"
     ]
    }
   ],
   "source": [
    "correct = pd.read_csv(\"../Dataset/testtransfcoor.csv\", sep=\";\")[\"price\"].to_numpy()\n",
    "predictionsINLA = pd.read_csv(\"../Spatial Model - INLA/TestPred.csv\")[\"predicted\"].to_numpy()\n",
    "\n",
    "MSE_INLA = np.mean((correct - predictionsINLA)**2)\n",
    "\n",
    "print(MSE_INLA)"
   ]
  },
  {
   "cell_type": "code",
   "execution_count": null,
   "metadata": {},
   "outputs": [],
   "source": []
  }
 ],
 "metadata": {
  "kernelspec": {
   "display_name": "base",
   "language": "python",
   "name": "python3"
  },
  "language_info": {
   "codemirror_mode": {
    "name": "ipython",
    "version": 3
   },
   "file_extension": ".py",
   "mimetype": "text/x-python",
   "name": "python",
   "nbconvert_exporter": "python",
   "pygments_lexer": "ipython3",
   "version": "3.10.6"
  },
  "orig_nbformat": 4,
  "vscode": {
   "interpreter": {
    "hash": "cafa63dd5c33031e8e471e235761b957007db452540bc9568eb926607efd57b4"
   }
  }
 },
 "nbformat": 4,
 "nbformat_minor": 2
}
